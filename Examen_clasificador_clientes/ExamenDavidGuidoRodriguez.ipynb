{
 "cells": [
  {
   "cell_type": "markdown",
   "id": "84a6141b",
   "metadata": {},
   "source": [
    "# Problema\n",
    "Clasificación de Clientes según su Perfil Financiero\n",
    "\n",
    "## Descripción del Problema\n",
    "Una institución financiera desea clasificar a sus clientes en tres categorías basándose en su perfil financiero y de comportamiento:\n",
    "Riesgo Bajo: Clientes que cumplen con todos los pagos a tiempo y tienen ingresos estables.\n",
    "Riesgo Medio: Clientes con retrasos esporádicos en los pagos o ingresos variables.\n",
    "Riesgo Alto: Clientes con historial de impagos o ingresos inestables.\n",
    "\n",
    "### Características de Entrada:\n",
    "Historial de pagos: Porcentaje de pagos realizados a tiempo (normalizado entre 0 y 1).\n",
    "Ingresos mensuales: Ingresos promedio del cliente (normalizado entre 0 y 1).\n",
    "Relación deuda-ingreso: Proporción entre la deuda total y los ingresos totales (normalizado entre 0 y 1).\n",
    "Categorías de Salida:\n",
    "`Riesgo Bajo`: [1, 0, 0]\n",
    "`Riesgo Medio`: [0, 1, 0]\n",
    "`Riesgo Alto`: [0, 0, 1]\n",
    "\n",
    "Conjunto de Datos de Entrenamiento\n",
    "Historial de pagos\tIngresos mensuales\tRelación deuda-ingreso\tResultado\n",
    "0.9\t0.8\t0.2\t[1, 0, 0]\n",
    "0.7\t0.6\t0.5\t[0, 1, 0]\n",
    "0.4\t0.4\t0.8\t[0, 0, 1]\n",
    "0.8\t0.9\t0.3\t[1, 0, 0]\n",
    "0.5\t0.7\t0.6\t[0, 1, 0]\n",
    "0.3\t0.5\t0.9\t[0, 0, 1]\n",
    "Actividades\n",
    "Implementar una red neuronal multicapa para clasificar los clientes según su riesgo.\n",
    "Encontrar los valores óptimos para los pesos `w1`, `w2` 'wn' y el sesgo `b` mediante entrenamiento.\n",
    "Graficar la frontera de decisión que separa los clientes .\n",
    "\n",
    "\n",
    "¿Son los datos linealmente separables?\n",
    "¿Qué ajustes podrían hacer al modelo para mejorar la clasificación?\n",
    "Describir cada una de las partes del modelo implementando"
   ]
  },
  {
   "cell_type": "code",
   "execution_count": 6,
   "id": "b094c2f2",
   "metadata": {},
   "outputs": [],
   "source": [
    "# Uso de librerias\n",
    "import numpy as np\n",
    "import matplotlib.pyplot as plt\n",
    "from tensorflow.keras.models import Sequential\n",
    "from tensorflow.keras.layers import Dense"
   ]
  },
  {
   "cell_type": "markdown",
   "id": "4fde48b3",
   "metadata": {},
   "source": [
    "# Datos de entrenamiento y etiquetas definidas"
   ]
  },
  {
   "cell_type": "code",
   "execution_count": 7,
   "id": "7146a571",
   "metadata": {},
   "outputs": [],
   "source": [
    "clientes = np.array([\n",
    "    [0.9, 0.8, 0.2],\n",
    "    [0.7, 0.6, 0.5],\n",
    "    [0.4, 0.4, 0.8],\n",
    "    [0.8, 0.9, 0.3],\n",
    "    [0.5, 0.7, 0.6],\n",
    "    [0.3, 0.5, 0.9]\n",
    "])\n",
    "\n",
    "categorias = np.array([\n",
    "    [1, 0, 0],  \n",
    "    [0, 1, 0], \n",
    "    [0, 0, 1],\n",
    "    [1, 0, 0],\n",
    "    [0, 1, 0],\n",
    "    [0, 0, 1]\n",
    "])"
   ]
  },
  {
   "cell_type": "markdown",
   "id": "273d4221",
   "metadata": {},
   "source": [
    "# Generación del modelo en base a phaser anterior mediante la definición de una red neuronal"
   ]
  },
  {
   "cell_type": "code",
   "execution_count": 8,
   "id": "b68fc058",
   "metadata": {},
   "outputs": [
    {
     "name": "stdout",
     "output_type": "stream",
     "text": [
      "Red neuronal inicializada.\n"
     ]
    },
    {
     "name": "stderr",
     "output_type": "stream",
     "text": [
      "c:\\Users\\Guido\\Desktop\\Devs\\IA\\guidod-IA\\entrenamientoPlantas\\plantvenv\\Lib\\site-packages\\keras\\src\\layers\\core\\dense.py:87: UserWarning: Do not pass an `input_shape`/`input_dim` argument to a layer. When using Sequential models, prefer using an `Input(shape)` object as the first layer in the model instead.\n",
      "  super().__init__(activity_regularizer=activity_regularizer, **kwargs)\n"
     ]
    }
   ],
   "source": [
    "from tensorflow.keras.models import Sequential\n",
    "from tensorflow.keras.layers import Dense\n",
    "\n",
    "modelo = Sequential()\n",
    "modelo.add(Dense(6, input_dim=3, activation='relu')) \n",
    "modelo.add(Dense(6, activation='relu'))             \n",
    "modelo.add(Dense(3, activation='softmax'))       \n",
    "modelo.compile(optimizer='adam', loss='categorical_crossentropy', metrics=['accuracy'])\n",
    "print(\"Red neuronal inicializada.\")\n"
   ]
  },
  {
   "cell_type": "markdown",
   "id": "9b3715b6",
   "metadata": {},
   "source": [
    "## Recolección de los datos inicializados al principio"
   ]
  },
  {
   "cell_type": "code",
   "execution_count": 9,
   "id": "46a8e8b9",
   "metadata": {},
   "outputs": [
    {
     "name": "stdout",
     "output_type": "stream",
     "text": [
      "Recolectando datos...\n",
      "Cliente 1: Historial=0.9, Ingresos=0.8, Deuda-Ingreso=0.2, Categoría=[1 0 0]\n",
      "Cliente 2: Historial=0.7, Ingresos=0.6, Deuda-Ingreso=0.5, Categoría=[0 1 0]\n",
      "Cliente 3: Historial=0.4, Ingresos=0.4, Deuda-Ingreso=0.8, Categoría=[0 0 1]\n",
      "Cliente 4: Historial=0.8, Ingresos=0.9, Deuda-Ingreso=0.3, Categoría=[1 0 0]\n",
      "Cliente 5: Historial=0.5, Ingresos=0.7, Deuda-Ingreso=0.6, Categoría=[0 1 0]\n",
      "Cliente 6: Historial=0.3, Ingresos=0.5, Deuda-Ingreso=0.9, Categoría=[0 0 1]\n"
     ]
    }
   ],
   "source": [
    "# Simulamos la recolección de datos financieros\n",
    "def recolectar_datos(clientes, categorias):\n",
    "    print(\"Recolectando datos...\")\n",
    "    for i, cliente in enumerate(clientes):\n",
    "        print(f\"Cliente {i + 1}: Historial={cliente[0]}, Ingresos={cliente[1]}, Deuda-Ingreso={cliente[2]}, Categoría={categorias[i]}\")\n",
    "\n",
    "recolectar_datos(clientes, categorias)"
   ]
  },
  {
   "cell_type": "markdown",
   "id": "065bea08",
   "metadata": {},
   "source": [
    "## Entrenamiento del modelo con fit"
   ]
  },
  {
   "cell_type": "code",
   "execution_count": 10,
   "id": "0433bc93",
   "metadata": {},
   "outputs": [
    {
     "name": "stdout",
     "output_type": "stream",
     "text": [
      "Entrenamiento completado.\n"
     ]
    }
   ],
   "source": [
    "\n",
    "modelo.fit(clientes, categorias, epochs=500, verbose=0)\n",
    "print(\"Entrenamiento completado.\")\n"
   ]
  },
  {
   "cell_type": "markdown",
   "id": "61a7d714",
   "metadata": {},
   "source": [
    "## Pruebas de predicción mediante el modelo ya entrenado "
   ]
  },
  {
   "cell_type": "code",
   "execution_count": 15,
   "id": "a2616370",
   "metadata": {},
   "outputs": [
    {
     "name": "stdout",
     "output_type": "stream",
     "text": [
      "\u001b[1m1/1\u001b[0m \u001b[32m━━━━━━━━━━━━━━━━━━━━\u001b[0m\u001b[37m\u001b[0m \u001b[1m0s\u001b[0m 17ms/step\n",
      "Predicciones desglozadas: [[0.00125124 0.17298624 0.82576245]]\n",
      "Predicción para el nuevo cliente: Riesgo Alto\n"
     ]
    }
   ],
   "source": [
    "#Simulación de un nuevo cliente como si lo ingresaramos al arreglo\n",
    "nuevo_cliente = np.array([[0.4, 0.4, 0.9]])\n",
    "prediccion = modelo.predict(nuevo_cliente)\n",
    "#Muestreo de las predicciones de cada categoria para tomar la mas alta\n",
    "categoria = np.argmax(prediccion)\n",
    "print(f'Predicciones desglozadas: {prediccion}')\n",
    "#Definición de nombres de las clases numericas\n",
    "nombres_categorias = [\"Riesgo Bajo\", \"Riesgo Medio\", \"Riesgo Alto\"]\n",
    "print(f\"Predicción para el nuevo cliente: {nombres_categorias[categoria]}\")\n"
   ]
  },
  {
   "cell_type": "markdown",
   "id": "1fa84503",
   "metadata": {},
   "source": [
    "## Graficación de los datos con frontera de decisión"
   ]
  },
  {
   "cell_type": "code",
   "execution_count": 16,
   "id": "c01b1c78",
   "metadata": {},
   "outputs": [
    {
     "name": "stdout",
     "output_type": "stream",
     "text": [
      "\u001b[1m313/313\u001b[0m \u001b[32m━━━━━━━━━━━━━━━━━━━━\u001b[0m\u001b[37m\u001b[0m \u001b[1m0s\u001b[0m 677us/step\n"
     ]
    },
    {
     "data": {
      "image/png": "[encoded data removed]",
      "text/plain": [
       "<Figure size 640x480 with 1 Axes>"
      ]
     },
     "metadata": {},
     "output_type": "display_data"
    }
   ],
   "source": [
    "import matplotlib.pyplot as plt\n",
    "\n",
    "# Gráfica de la frontera de decisión\n",
    "def frontera_decision(model, data, labels):\n",
    "    x_min, x_max = data[:, 0].min() - 0.1, data[:, 0].max() + 0.1\n",
    "    y_min, y_max = data[:, 1].min() - 0.1, data[:, 1].max() + 0.1\n",
    "    xx, yy = np.meshgrid(np.linspace(x_min, x_max, 100), np.linspace(y_min, y_max, 100))\n",
    "    grid = np.c_[xx.ravel(), yy.ravel(), np.full(xx.ravel().shape, 0.5)]\n",
    "\n",
    "    predicciones = model.predict(grid)\n",
    "    predicciones = np.argmax(predicciones, axis=1)\n",
    "    predicciones = predicciones.reshape(xx.shape)\n",
    "\n",
    "    plt.contourf(xx, yy, predicciones, alpha=0.8, cmap=plt.cm.RdYlBu)\n",
    "    plt.scatter(data[:, 0], data[:, 1], c=np.argmax(labels, axis=1), edgecolors='k', cmap=plt.cm.RdYlBu)\n",
    "    plt.xlabel(\"Historial de pagos\")\n",
    "    plt.ylabel(\"Ingresos mensuales\")\n",
    "    plt.title(\"Frontera de decisión\")\n",
    "    plt.show()\n",
    "\n",
    "frontera_decision(modelo, clientes, categorias)\n"
   ]
  },
  {
   "cell_type": "markdown",
   "id": "2d7302ad",
   "metadata": {},
   "source": [
    "## Preguntas finales\n",
    "### ¿Son los datos linealmente separables?\n",
    "Segun la frontera de decisión vista anteriormente no parece ser que sean linealmente separables pues estan dispersos y muestran transiciones entre las clases\n",
    "\n",
    "### ¿Qué ajustes podrían hacer al modelo para mejorar la clasificación?\n",
    "En este caso tiene muy pocos ejemplos, se tendria que entrenar con muchos mas datos para que el modelo sea capaz de generalizar\n",
    "\n",
    "\n",
    "### Describir cada una de las partes del modelo implementando\n",
    "Esto ya se encuentra explicado mediante los markdowns anteriores y los comentarios en el codigo \n",
    "\n"
   ]
  }
 ],
 "metadata": {
  "kernelspec": {
   "display_name": "plantvenv",
   "language": "python",
   "name": "python3"
  },
  "language_info": {
   "codemirror_mode": {
    "name": "ipython",
    "version": 3
   },
   "file_extension": ".py",
   "mimetype": "text/x-python",
   "name": "python",
   "nbconvert_exporter": "python",
   "pygments_lexer": "ipython3",
   "version": "3.12.6"
  }
 },
 "nbformat": 4,
 "nbformat_minor": 5
}
